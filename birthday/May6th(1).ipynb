{
  "nbformat": 4,
  "nbformat_minor": 0,
  "metadata": {
    "colab": {
      "provenance": []
    },
    "kernelspec": {
      "name": "python3",
      "display_name": "Python 3"
    },
    "language_info": {
      "name": "python"
    }
  },
  "cells": [
    {
      "cell_type": "code",
      "execution_count": null,
      "metadata": {
        "id": "uoDmGkwOWFnh"
      },
      "outputs": [],
      "source": [
        "from datetime import date, time, datetime as dt\n",
        "from datetime import timezone\n",
        "import pytz\n",
        "from datetime import timedelta"
      ]
    },
    {
      "cell_type": "code",
      "source": [
        "dt.now()"
      ],
      "metadata": {
        "colab": {
          "base_uri": "https://localhost:8080/"
        },
        "id": "_uTrv4g5WVgf",
        "outputId": "470bac98-44fe-431e-b92c-8092e767522a"
      },
      "execution_count": null,
      "outputs": [
        {
          "output_type": "execute_result",
          "data": {
            "text/plain": [
              "datetime.datetime(2024, 5, 7, 21, 36, 15, 669393)"
            ]
          },
          "metadata": {},
          "execution_count": 5
        }
      ]
    },
    {
      "cell_type": "code",
      "source": [
        "dt.today()"
      ],
      "metadata": {
        "colab": {
          "base_uri": "https://localhost:8080/"
        },
        "id": "xFao1bOqYEey",
        "outputId": "35424cff-57ed-45c4-b803-cc698cf4ca5a"
      },
      "execution_count": null,
      "outputs": [
        {
          "output_type": "execute_result",
          "data": {
            "text/plain": [
              "datetime.datetime(2024, 5, 7, 21, 36, 15, 699102)"
            ]
          },
          "metadata": {},
          "execution_count": 6
        }
      ]
    },
    {
      "cell_type": "code",
      "source": [
        "tz = pytz.timezone('US/Pacific')\n",
        "dt.now(tz=tz)"
      ],
      "metadata": {
        "colab": {
          "base_uri": "https://localhost:8080/"
        },
        "id": "tJCkONN6Ydjk",
        "outputId": "dc54a004-ff6d-45b4-f87b-5aa17ce84e33"
      },
      "execution_count": null,
      "outputs": [
        {
          "output_type": "execute_result",
          "data": {
            "text/plain": [
              "datetime.datetime(2024, 5, 7, 14, 36, 15, 747259, tzinfo=<DstTzInfo 'US/Pacific' PDT-1 day, 17:00:00 DST>)"
            ]
          },
          "metadata": {},
          "execution_count": 7
        }
      ]
    },
    {
      "cell_type": "code",
      "source": [
        "for x in pytz.all_timezones:\n",
        "  print(x)"
      ],
      "metadata": {
        "colab": {
          "base_uri": "https://localhost:8080/"
        },
        "id": "5Rc853stZmXO",
        "outputId": "df48ca56-cc4b-4ffd-d89f-830899e19260"
      },
      "execution_count": null,
      "outputs": [
        {
          "output_type": "stream",
          "name": "stdout",
          "text": [
            "Africa/Abidjan\n",
            "Africa/Accra\n",
            "Africa/Addis_Ababa\n",
            "Africa/Algiers\n",
            "Africa/Asmara\n",
            "Africa/Asmera\n",
            "Africa/Bamako\n",
            "Africa/Bangui\n",
            "Africa/Banjul\n",
            "Africa/Bissau\n",
            "Africa/Blantyre\n",
            "Africa/Brazzaville\n",
            "Africa/Bujumbura\n",
            "Africa/Cairo\n",
            "Africa/Casablanca\n",
            "Africa/Ceuta\n",
            "Africa/Conakry\n",
            "Africa/Dakar\n",
            "Africa/Dar_es_Salaam\n",
            "Africa/Djibouti\n",
            "Africa/Douala\n",
            "Africa/El_Aaiun\n",
            "Africa/Freetown\n",
            "Africa/Gaborone\n",
            "Africa/Harare\n",
            "Africa/Johannesburg\n",
            "Africa/Juba\n",
            "Africa/Kampala\n",
            "Africa/Khartoum\n",
            "Africa/Kigali\n",
            "Africa/Kinshasa\n",
            "Africa/Lagos\n",
            "Africa/Libreville\n",
            "Africa/Lome\n",
            "Africa/Luanda\n",
            "Africa/Lubumbashi\n",
            "Africa/Lusaka\n",
            "Africa/Malabo\n",
            "Africa/Maputo\n",
            "Africa/Maseru\n",
            "Africa/Mbabane\n",
            "Africa/Mogadishu\n",
            "Africa/Monrovia\n",
            "Africa/Nairobi\n",
            "Africa/Ndjamena\n",
            "Africa/Niamey\n",
            "Africa/Nouakchott\n",
            "Africa/Ouagadougou\n",
            "Africa/Porto-Novo\n",
            "Africa/Sao_Tome\n",
            "Africa/Timbuktu\n",
            "Africa/Tripoli\n",
            "Africa/Tunis\n",
            "Africa/Windhoek\n",
            "America/Adak\n",
            "America/Anchorage\n",
            "America/Anguilla\n",
            "America/Antigua\n",
            "America/Araguaina\n",
            "America/Argentina/Buenos_Aires\n",
            "America/Argentina/Catamarca\n",
            "America/Argentina/ComodRivadavia\n",
            "America/Argentina/Cordoba\n",
            "America/Argentina/Jujuy\n",
            "America/Argentina/La_Rioja\n",
            "America/Argentina/Mendoza\n",
            "America/Argentina/Rio_Gallegos\n",
            "America/Argentina/Salta\n",
            "America/Argentina/San_Juan\n",
            "America/Argentina/San_Luis\n",
            "America/Argentina/Tucuman\n",
            "America/Argentina/Ushuaia\n",
            "America/Aruba\n",
            "America/Asuncion\n",
            "America/Atikokan\n",
            "America/Atka\n",
            "America/Bahia\n",
            "America/Bahia_Banderas\n",
            "America/Barbados\n",
            "America/Belem\n",
            "America/Belize\n",
            "America/Blanc-Sablon\n",
            "America/Boa_Vista\n",
            "America/Bogota\n",
            "America/Boise\n",
            "America/Buenos_Aires\n",
            "America/Cambridge_Bay\n",
            "America/Campo_Grande\n",
            "America/Cancun\n",
            "America/Caracas\n",
            "America/Catamarca\n",
            "America/Cayenne\n",
            "America/Cayman\n",
            "America/Chicago\n",
            "America/Chihuahua\n",
            "America/Ciudad_Juarez\n",
            "America/Coral_Harbour\n",
            "America/Cordoba\n",
            "America/Costa_Rica\n",
            "America/Creston\n",
            "America/Cuiaba\n",
            "America/Curacao\n",
            "America/Danmarkshavn\n",
            "America/Dawson\n",
            "America/Dawson_Creek\n",
            "America/Denver\n",
            "America/Detroit\n",
            "America/Dominica\n",
            "America/Edmonton\n",
            "America/Eirunepe\n",
            "America/El_Salvador\n",
            "America/Ensenada\n",
            "America/Fort_Nelson\n",
            "America/Fort_Wayne\n",
            "America/Fortaleza\n",
            "America/Glace_Bay\n",
            "America/Godthab\n",
            "America/Goose_Bay\n",
            "America/Grand_Turk\n",
            "America/Grenada\n",
            "America/Guadeloupe\n",
            "America/Guatemala\n",
            "America/Guayaquil\n",
            "America/Guyana\n",
            "America/Halifax\n",
            "America/Havana\n",
            "America/Hermosillo\n",
            "America/Indiana/Indianapolis\n",
            "America/Indiana/Knox\n",
            "America/Indiana/Marengo\n",
            "America/Indiana/Petersburg\n",
            "America/Indiana/Tell_City\n",
            "America/Indiana/Vevay\n",
            "America/Indiana/Vincennes\n",
            "America/Indiana/Winamac\n",
            "America/Indianapolis\n",
            "America/Inuvik\n",
            "America/Iqaluit\n",
            "America/Jamaica\n",
            "America/Jujuy\n",
            "America/Juneau\n",
            "America/Kentucky/Louisville\n",
            "America/Kentucky/Monticello\n",
            "America/Knox_IN\n",
            "America/Kralendijk\n",
            "America/La_Paz\n",
            "America/Lima\n",
            "America/Los_Angeles\n",
            "America/Louisville\n",
            "America/Lower_Princes\n",
            "America/Maceio\n",
            "America/Managua\n",
            "America/Manaus\n",
            "America/Marigot\n",
            "America/Martinique\n",
            "America/Matamoros\n",
            "America/Mazatlan\n",
            "America/Mendoza\n",
            "America/Menominee\n",
            "America/Merida\n",
            "America/Metlakatla\n",
            "America/Mexico_City\n",
            "America/Miquelon\n",
            "America/Moncton\n",
            "America/Monterrey\n",
            "America/Montevideo\n",
            "America/Montreal\n",
            "America/Montserrat\n",
            "America/Nassau\n",
            "America/New_York\n",
            "America/Nipigon\n",
            "America/Nome\n",
            "America/Noronha\n",
            "America/North_Dakota/Beulah\n",
            "America/North_Dakota/Center\n",
            "America/North_Dakota/New_Salem\n",
            "America/Nuuk\n",
            "America/Ojinaga\n",
            "America/Panama\n",
            "America/Pangnirtung\n",
            "America/Paramaribo\n",
            "America/Phoenix\n",
            "America/Port-au-Prince\n",
            "America/Port_of_Spain\n",
            "America/Porto_Acre\n",
            "America/Porto_Velho\n",
            "America/Puerto_Rico\n",
            "America/Punta_Arenas\n",
            "America/Rainy_River\n",
            "America/Rankin_Inlet\n",
            "America/Recife\n",
            "America/Regina\n",
            "America/Resolute\n",
            "America/Rio_Branco\n",
            "America/Rosario\n",
            "America/Santa_Isabel\n",
            "America/Santarem\n",
            "America/Santiago\n",
            "America/Santo_Domingo\n",
            "America/Sao_Paulo\n",
            "America/Scoresbysund\n",
            "America/Shiprock\n",
            "America/Sitka\n",
            "America/St_Barthelemy\n",
            "America/St_Johns\n",
            "America/St_Kitts\n",
            "America/St_Lucia\n",
            "America/St_Thomas\n",
            "America/St_Vincent\n",
            "America/Swift_Current\n",
            "America/Tegucigalpa\n",
            "America/Thule\n",
            "America/Thunder_Bay\n",
            "America/Tijuana\n",
            "America/Toronto\n",
            "America/Tortola\n",
            "America/Vancouver\n",
            "America/Virgin\n",
            "America/Whitehorse\n",
            "America/Winnipeg\n",
            "America/Yakutat\n",
            "America/Yellowknife\n",
            "Antarctica/Casey\n",
            "Antarctica/Davis\n",
            "Antarctica/DumontDUrville\n",
            "Antarctica/Macquarie\n",
            "Antarctica/Mawson\n",
            "Antarctica/McMurdo\n",
            "Antarctica/Palmer\n",
            "Antarctica/Rothera\n",
            "Antarctica/South_Pole\n",
            "Antarctica/Syowa\n",
            "Antarctica/Troll\n",
            "Antarctica/Vostok\n",
            "Arctic/Longyearbyen\n",
            "Asia/Aden\n",
            "Asia/Almaty\n",
            "Asia/Amman\n",
            "Asia/Anadyr\n",
            "Asia/Aqtau\n",
            "Asia/Aqtobe\n",
            "Asia/Ashgabat\n",
            "Asia/Ashkhabad\n",
            "Asia/Atyrau\n",
            "Asia/Baghdad\n",
            "Asia/Bahrain\n",
            "Asia/Baku\n",
            "Asia/Bangkok\n",
            "Asia/Barnaul\n",
            "Asia/Beirut\n",
            "Asia/Bishkek\n",
            "Asia/Brunei\n",
            "Asia/Calcutta\n",
            "Asia/Chita\n",
            "Asia/Choibalsan\n",
            "Asia/Chongqing\n",
            "Asia/Chungking\n",
            "Asia/Colombo\n",
            "Asia/Dacca\n",
            "Asia/Damascus\n",
            "Asia/Dhaka\n",
            "Asia/Dili\n",
            "Asia/Dubai\n",
            "Asia/Dushanbe\n",
            "Asia/Famagusta\n",
            "Asia/Gaza\n",
            "Asia/Harbin\n",
            "Asia/Hebron\n",
            "Asia/Ho_Chi_Minh\n",
            "Asia/Hong_Kong\n",
            "Asia/Hovd\n",
            "Asia/Irkutsk\n",
            "Asia/Istanbul\n",
            "Asia/Jakarta\n",
            "Asia/Jayapura\n",
            "Asia/Jerusalem\n",
            "Asia/Kabul\n",
            "Asia/Kamchatka\n",
            "Asia/Karachi\n",
            "Asia/Kashgar\n",
            "Asia/Kathmandu\n",
            "Asia/Katmandu\n",
            "Asia/Khandyga\n",
            "Asia/Kolkata\n",
            "Asia/Krasnoyarsk\n",
            "Asia/Kuala_Lumpur\n",
            "Asia/Kuching\n",
            "Asia/Kuwait\n",
            "Asia/Macao\n",
            "Asia/Macau\n",
            "Asia/Magadan\n",
            "Asia/Makassar\n",
            "Asia/Manila\n",
            "Asia/Muscat\n",
            "Asia/Nicosia\n",
            "Asia/Novokuznetsk\n",
            "Asia/Novosibirsk\n",
            "Asia/Omsk\n",
            "Asia/Oral\n",
            "Asia/Phnom_Penh\n",
            "Asia/Pontianak\n",
            "Asia/Pyongyang\n",
            "Asia/Qatar\n",
            "Asia/Qostanay\n",
            "Asia/Qyzylorda\n",
            "Asia/Rangoon\n",
            "Asia/Riyadh\n",
            "Asia/Saigon\n",
            "Asia/Sakhalin\n",
            "Asia/Samarkand\n",
            "Asia/Seoul\n",
            "Asia/Shanghai\n",
            "Asia/Singapore\n",
            "Asia/Srednekolymsk\n",
            "Asia/Taipei\n",
            "Asia/Tashkent\n",
            "Asia/Tbilisi\n",
            "Asia/Tehran\n",
            "Asia/Tel_Aviv\n",
            "Asia/Thimbu\n",
            "Asia/Thimphu\n",
            "Asia/Tokyo\n",
            "Asia/Tomsk\n",
            "Asia/Ujung_Pandang\n",
            "Asia/Ulaanbaatar\n",
            "Asia/Ulan_Bator\n",
            "Asia/Urumqi\n",
            "Asia/Ust-Nera\n",
            "Asia/Vientiane\n",
            "Asia/Vladivostok\n",
            "Asia/Yakutsk\n",
            "Asia/Yangon\n",
            "Asia/Yekaterinburg\n",
            "Asia/Yerevan\n",
            "Atlantic/Azores\n",
            "Atlantic/Bermuda\n",
            "Atlantic/Canary\n",
            "Atlantic/Cape_Verde\n",
            "Atlantic/Faeroe\n",
            "Atlantic/Faroe\n",
            "Atlantic/Jan_Mayen\n",
            "Atlantic/Madeira\n",
            "Atlantic/Reykjavik\n",
            "Atlantic/South_Georgia\n",
            "Atlantic/St_Helena\n",
            "Atlantic/Stanley\n",
            "Australia/ACT\n",
            "Australia/Adelaide\n",
            "Australia/Brisbane\n",
            "Australia/Broken_Hill\n",
            "Australia/Canberra\n",
            "Australia/Currie\n",
            "Australia/Darwin\n",
            "Australia/Eucla\n",
            "Australia/Hobart\n",
            "Australia/LHI\n",
            "Australia/Lindeman\n",
            "Australia/Lord_Howe\n",
            "Australia/Melbourne\n",
            "Australia/NSW\n",
            "Australia/North\n",
            "Australia/Perth\n",
            "Australia/Queensland\n",
            "Australia/South\n",
            "Australia/Sydney\n",
            "Australia/Tasmania\n",
            "Australia/Victoria\n",
            "Australia/West\n",
            "Australia/Yancowinna\n",
            "Brazil/Acre\n",
            "Brazil/DeNoronha\n",
            "Brazil/East\n",
            "Brazil/West\n",
            "CET\n",
            "CST6CDT\n",
            "Canada/Atlantic\n",
            "Canada/Central\n",
            "Canada/Eastern\n",
            "Canada/Mountain\n",
            "Canada/Newfoundland\n",
            "Canada/Pacific\n",
            "Canada/Saskatchewan\n",
            "Canada/Yukon\n",
            "Chile/Continental\n",
            "Chile/EasterIsland\n",
            "Cuba\n",
            "EET\n",
            "EST\n",
            "EST5EDT\n",
            "Egypt\n",
            "Eire\n",
            "Etc/GMT\n",
            "Etc/GMT+0\n",
            "Etc/GMT+1\n",
            "Etc/GMT+10\n",
            "Etc/GMT+11\n",
            "Etc/GMT+12\n",
            "Etc/GMT+2\n",
            "Etc/GMT+3\n",
            "Etc/GMT+4\n",
            "Etc/GMT+5\n",
            "Etc/GMT+6\n",
            "Etc/GMT+7\n",
            "Etc/GMT+8\n",
            "Etc/GMT+9\n",
            "Etc/GMT-0\n",
            "Etc/GMT-1\n",
            "Etc/GMT-10\n",
            "Etc/GMT-11\n",
            "Etc/GMT-12\n",
            "Etc/GMT-13\n",
            "Etc/GMT-14\n",
            "Etc/GMT-2\n",
            "Etc/GMT-3\n",
            "Etc/GMT-4\n",
            "Etc/GMT-5\n",
            "Etc/GMT-6\n",
            "Etc/GMT-7\n",
            "Etc/GMT-8\n",
            "Etc/GMT-9\n",
            "Etc/GMT0\n",
            "Etc/Greenwich\n",
            "Etc/UCT\n",
            "Etc/UTC\n",
            "Etc/Universal\n",
            "Etc/Zulu\n",
            "Europe/Amsterdam\n",
            "Europe/Andorra\n",
            "Europe/Astrakhan\n",
            "Europe/Athens\n",
            "Europe/Belfast\n",
            "Europe/Belgrade\n",
            "Europe/Berlin\n",
            "Europe/Bratislava\n",
            "Europe/Brussels\n",
            "Europe/Bucharest\n",
            "Europe/Budapest\n",
            "Europe/Busingen\n",
            "Europe/Chisinau\n",
            "Europe/Copenhagen\n",
            "Europe/Dublin\n",
            "Europe/Gibraltar\n",
            "Europe/Guernsey\n",
            "Europe/Helsinki\n",
            "Europe/Isle_of_Man\n",
            "Europe/Istanbul\n",
            "Europe/Jersey\n",
            "Europe/Kaliningrad\n",
            "Europe/Kiev\n",
            "Europe/Kirov\n",
            "Europe/Kyiv\n",
            "Europe/Lisbon\n",
            "Europe/Ljubljana\n",
            "Europe/London\n",
            "Europe/Luxembourg\n",
            "Europe/Madrid\n",
            "Europe/Malta\n",
            "Europe/Mariehamn\n",
            "Europe/Minsk\n",
            "Europe/Monaco\n",
            "Europe/Moscow\n",
            "Europe/Nicosia\n",
            "Europe/Oslo\n",
            "Europe/Paris\n",
            "Europe/Podgorica\n",
            "Europe/Prague\n",
            "Europe/Riga\n",
            "Europe/Rome\n",
            "Europe/Samara\n",
            "Europe/San_Marino\n",
            "Europe/Sarajevo\n",
            "Europe/Saratov\n",
            "Europe/Simferopol\n",
            "Europe/Skopje\n",
            "Europe/Sofia\n",
            "Europe/Stockholm\n",
            "Europe/Tallinn\n",
            "Europe/Tirane\n",
            "Europe/Tiraspol\n",
            "Europe/Ulyanovsk\n",
            "Europe/Uzhgorod\n",
            "Europe/Vaduz\n",
            "Europe/Vatican\n",
            "Europe/Vienna\n",
            "Europe/Vilnius\n",
            "Europe/Volgograd\n",
            "Europe/Warsaw\n",
            "Europe/Zagreb\n",
            "Europe/Zaporozhye\n",
            "Europe/Zurich\n",
            "GB\n",
            "GB-Eire\n",
            "GMT\n",
            "GMT+0\n",
            "GMT-0\n",
            "GMT0\n",
            "Greenwich\n",
            "HST\n",
            "Hongkong\n",
            "Iceland\n",
            "Indian/Antananarivo\n",
            "Indian/Chagos\n",
            "Indian/Christmas\n",
            "Indian/Cocos\n",
            "Indian/Comoro\n",
            "Indian/Kerguelen\n",
            "Indian/Mahe\n",
            "Indian/Maldives\n",
            "Indian/Mauritius\n",
            "Indian/Mayotte\n",
            "Indian/Reunion\n",
            "Iran\n",
            "Israel\n",
            "Jamaica\n",
            "Japan\n",
            "Kwajalein\n",
            "Libya\n",
            "MET\n",
            "MST\n",
            "MST7MDT\n",
            "Mexico/BajaNorte\n",
            "Mexico/BajaSur\n",
            "Mexico/General\n",
            "NZ\n",
            "NZ-CHAT\n",
            "Navajo\n",
            "PRC\n",
            "PST8PDT\n",
            "Pacific/Apia\n",
            "Pacific/Auckland\n",
            "Pacific/Bougainville\n",
            "Pacific/Chatham\n",
            "Pacific/Chuuk\n",
            "Pacific/Easter\n",
            "Pacific/Efate\n",
            "Pacific/Enderbury\n",
            "Pacific/Fakaofo\n",
            "Pacific/Fiji\n",
            "Pacific/Funafuti\n",
            "Pacific/Galapagos\n",
            "Pacific/Gambier\n",
            "Pacific/Guadalcanal\n",
            "Pacific/Guam\n",
            "Pacific/Honolulu\n",
            "Pacific/Johnston\n",
            "Pacific/Kanton\n",
            "Pacific/Kiritimati\n",
            "Pacific/Kosrae\n",
            "Pacific/Kwajalein\n",
            "Pacific/Majuro\n",
            "Pacific/Marquesas\n",
            "Pacific/Midway\n",
            "Pacific/Nauru\n",
            "Pacific/Niue\n",
            "Pacific/Norfolk\n",
            "Pacific/Noumea\n",
            "Pacific/Pago_Pago\n",
            "Pacific/Palau\n",
            "Pacific/Pitcairn\n",
            "Pacific/Pohnpei\n",
            "Pacific/Ponape\n",
            "Pacific/Port_Moresby\n",
            "Pacific/Rarotonga\n",
            "Pacific/Saipan\n",
            "Pacific/Samoa\n",
            "Pacific/Tahiti\n",
            "Pacific/Tarawa\n",
            "Pacific/Tongatapu\n",
            "Pacific/Truk\n",
            "Pacific/Wake\n",
            "Pacific/Wallis\n",
            "Pacific/Yap\n",
            "Poland\n",
            "Portugal\n",
            "ROC\n",
            "ROK\n",
            "Singapore\n",
            "Turkey\n",
            "UCT\n",
            "US/Alaska\n",
            "US/Aleutian\n",
            "US/Arizona\n",
            "US/Central\n",
            "US/East-Indiana\n",
            "US/Eastern\n",
            "US/Hawaii\n",
            "US/Indiana-Starke\n",
            "US/Michigan\n",
            "US/Mountain\n",
            "US/Pacific\n",
            "US/Samoa\n",
            "UTC\n",
            "Universal\n",
            "W-SU\n",
            "WET\n",
            "Zulu\n"
          ]
        }
      ]
    },
    {
      "cell_type": "code",
      "source": [
        "currtime = dt.now()\n",
        "currtime"
      ],
      "metadata": {
        "colab": {
          "base_uri": "https://localhost:8080/"
        },
        "id": "BNlij6kKZy1j",
        "outputId": "7f8b77e7-bec4-4955-d599-391df2b69361"
      },
      "execution_count": null,
      "outputs": [
        {
          "output_type": "execute_result",
          "data": {
            "text/plain": [
              "datetime.datetime(2024, 5, 7, 21, 36, 15, 879627)"
            ]
          },
          "metadata": {},
          "execution_count": 9
        }
      ]
    },
    {
      "cell_type": "code",
      "source": [
        "delta = timedelta(days=2)\n",
        "delta"
      ],
      "metadata": {
        "colab": {
          "base_uri": "https://localhost:8080/"
        },
        "id": "5GEeJdfRaxl1",
        "outputId": "ecfd8027-5584-470a-e14b-04497784d60d"
      },
      "execution_count": null,
      "outputs": [
        {
          "output_type": "execute_result",
          "data": {
            "text/plain": [
              "datetime.timedelta(days=2)"
            ]
          },
          "metadata": {},
          "execution_count": 10
        }
      ]
    },
    {
      "cell_type": "code",
      "source": [
        "currtime + delta"
      ],
      "metadata": {
        "colab": {
          "base_uri": "https://localhost:8080/"
        },
        "id": "5gEEl9Raa75O",
        "outputId": "2fbefe69-fe1b-4f67-cb71-2d67c540f3d4"
      },
      "execution_count": null,
      "outputs": [
        {
          "output_type": "execute_result",
          "data": {
            "text/plain": [
              "datetime.datetime(2024, 5, 9, 21, 36, 15, 879627)"
            ]
          },
          "metadata": {},
          "execution_count": 11
        }
      ]
    },
    {
      "cell_type": "code",
      "source": [
        "dt.today()"
      ],
      "metadata": {
        "colab": {
          "base_uri": "https://localhost:8080/"
        },
        "id": "lV72Wdt2baG0",
        "outputId": "29da4f2e-ba10-4a20-9a68-66f42cafa067"
      },
      "execution_count": null,
      "outputs": [
        {
          "output_type": "execute_result",
          "data": {
            "text/plain": [
              "datetime.datetime(2024, 5, 7, 21, 36, 15, 913076)"
            ]
          },
          "metadata": {},
          "execution_count": 12
        }
      ]
    },
    {
      "cell_type": "code",
      "source": [
        "date.today()"
      ],
      "metadata": {
        "colab": {
          "base_uri": "https://localhost:8080/"
        },
        "id": "Tm4EPqwAbd4t",
        "outputId": "2d7cb9f6-9c3b-4d54-b944-4e758f57a4f4"
      },
      "execution_count": null,
      "outputs": [
        {
          "output_type": "execute_result",
          "data": {
            "text/plain": [
              "datetime.date(2024, 5, 7)"
            ]
          },
          "metadata": {},
          "execution_count": 13
        }
      ]
    },
    {
      "cell_type": "code",
      "source": [
        "date(1991, 5, 24)\n",
        "date(2024, 5, 7)"
      ],
      "metadata": {
        "colab": {
          "base_uri": "https://localhost:8080/"
        },
        "id": "pRJQZaPSbuQQ",
        "outputId": "5c9ebcc1-b84e-465f-a981-43334ed97913"
      },
      "execution_count": null,
      "outputs": [
        {
          "output_type": "execute_result",
          "data": {
            "text/plain": [
              "datetime.date(2024, 5, 7)"
            ]
          },
          "metadata": {},
          "execution_count": 14
        }
      ]
    },
    {
      "cell_type": "code",
      "source": [
        "date(2024, 5, 7)"
      ],
      "metadata": {
        "colab": {
          "base_uri": "https://localhost:8080/"
        },
        "id": "p1tH0fvscHa3",
        "outputId": "4f96a026-8014-40ab-bbf0-3c552eae9910"
      },
      "execution_count": null,
      "outputs": [
        {
          "output_type": "execute_result",
          "data": {
            "text/plain": [
              "datetime.date(2024, 5, 7)"
            ]
          },
          "metadata": {},
          "execution_count": 15
        }
      ]
    },
    {
      "cell_type": "code",
      "source": [
        "date.today() == date(2024, 5, 7)"
      ],
      "metadata": {
        "colab": {
          "base_uri": "https://localhost:8080/"
        },
        "id": "6cBTCpvzb_P_",
        "outputId": "8d8896cb-f2fc-4059-d7a6-e629c7f0f626"
      },
      "execution_count": null,
      "outputs": [
        {
          "output_type": "execute_result",
          "data": {
            "text/plain": [
              "True"
            ]
          },
          "metadata": {},
          "execution_count": 16
        }
      ]
    },
    {
      "cell_type": "code",
      "source": [
        "currtime_fmt = currtime.strftime('%a %d %b %Y, %I:%M%p')\n",
        "currtime_fmt"
      ],
      "metadata": {
        "colab": {
          "base_uri": "https://localhost:8080/",
          "height": 35
        },
        "id": "MjxWBnK9clyi",
        "outputId": "6ce5408e-ce2f-4bc3-cf66-6b930c00e0d7"
      },
      "execution_count": null,
      "outputs": [
        {
          "output_type": "execute_result",
          "data": {
            "text/plain": [
              "'Tue 07 May 2024, 09:36PM'"
            ],
            "application/vnd.google.colaboratory.intrinsic+json": {
              "type": "string"
            }
          },
          "metadata": {},
          "execution_count": 17
        }
      ]
    },
    {
      "cell_type": "code",
      "source": [
        "dt_obj = dt.strptime(currtime_fmt,'%a %d %b %Y, %I:%M%p')\n",
        "dt_obj"
      ],
      "metadata": {
        "colab": {
          "base_uri": "https://localhost:8080/"
        },
        "id": "u9-ryLaBd4dG",
        "outputId": "6f6ef643-e3e2-4a03-f82b-feb79e576145"
      },
      "execution_count": null,
      "outputs": [
        {
          "output_type": "execute_result",
          "data": {
            "text/plain": [
              "datetime.datetime(2024, 5, 7, 21, 36)"
            ]
          },
          "metadata": {},
          "execution_count": 18
        }
      ]
    },
    {
      "cell_type": "code",
      "source": [
        "currtime_newfmt = dt_obj.strftime('%y/%-m/%-d, %H:%M:%S')\n",
        "currtime_newfmt"
      ],
      "metadata": {
        "colab": {
          "base_uri": "https://localhost:8080/",
          "height": 35
        },
        "id": "e0VMUcGgesdk",
        "outputId": "8726481a-5167-43e3-9467-b8866995bb4c"
      },
      "execution_count": null,
      "outputs": [
        {
          "output_type": "execute_result",
          "data": {
            "text/plain": [
              "'24/5/7, 21:36:00'"
            ],
            "application/vnd.google.colaboratory.intrinsic+json": {
              "type": "string"
            }
          },
          "metadata": {},
          "execution_count": 19
        }
      ]
    },
    {
      "cell_type": "code",
      "source": [
        "dt_newobj = dt.strptime(currtime_newfmt, '%y/%m/%d, %H:%M:%S')\n",
        "dt_newobj"
      ],
      "metadata": {
        "colab": {
          "base_uri": "https://localhost:8080/"
        },
        "id": "bLHiZLq5fXQM",
        "outputId": "78e308f7-ed07-4647-964e-28276e60efba"
      },
      "execution_count": null,
      "outputs": [
        {
          "output_type": "execute_result",
          "data": {
            "text/plain": [
              "datetime.datetime(2024, 5, 7, 21, 36)"
            ]
          },
          "metadata": {},
          "execution_count": 20
        }
      ]
    },
    {
      "cell_type": "code",
      "source": [
        "dt.now().year"
      ],
      "metadata": {
        "colab": {
          "base_uri": "https://localhost:8080/"
        },
        "id": "WIKAFdMzgGjT",
        "outputId": "b2420b89-2610-44ba-ddb8-08b624223735"
      },
      "execution_count": null,
      "outputs": [
        {
          "output_type": "execute_result",
          "data": {
            "text/plain": [
              "2024"
            ]
          },
          "metadata": {},
          "execution_count": 21
        }
      ]
    },
    {
      "cell_type": "code",
      "source": [
        "thanksgiving = date(2024, 11, 28)"
      ],
      "metadata": {
        "id": "CiWDzVi7oJsE"
      },
      "execution_count": null,
      "outputs": []
    },
    {
      "cell_type": "markdown",
      "source": [
        "Exercise 1"
      ],
      "metadata": {
        "id": "Hpaxd5RuT86D"
      }
    },
    {
      "cell_type": "code",
      "source": [
        "def calculate_dates(thanksgiving, now):\n",
        "    diff = thanksgiving - now\n",
        "    if diff.days >= 0:\n",
        "      return diff.days\n",
        "    else:\n",
        "        return ((thanksgiving + timedelta(days = 365)) - now).days"
      ],
      "metadata": {
        "id": "axE91ziQlarB"
      },
      "execution_count": null,
      "outputs": []
    },
    {
      "cell_type": "code",
      "source": [
        "calculate_dates(thanksgiving, date.today())"
      ],
      "metadata": {
        "colab": {
          "base_uri": "https://localhost:8080/"
        },
        "id": "7PyBKaCxmyN4",
        "outputId": "7fb5a732-96ec-4298-9db3-3ae254b60ac5"
      },
      "execution_count": null,
      "outputs": [
        {
          "output_type": "execute_result",
          "data": {
            "text/plain": [
              "205"
            ]
          },
          "metadata": {},
          "execution_count": 24
        }
      ]
    },
    {
      "cell_type": "markdown",
      "source": [
        "Exercise 2"
      ],
      "metadata": {
        "id": "pLDLTcZUT_HN"
      }
    },
    {
      "cell_type": "code",
      "source": [
        "dt.now()"
      ],
      "metadata": {
        "colab": {
          "base_uri": "https://localhost:8080/"
        },
        "id": "u-6_fSHWU8Tg",
        "outputId": "c44e50d9-0901-4028-d064-5299759036eb"
      },
      "execution_count": null,
      "outputs": [
        {
          "output_type": "execute_result",
          "data": {
            "text/plain": [
              "datetime.datetime(2024, 5, 7, 23, 11, 47, 509665)"
            ]
          },
          "metadata": {},
          "execution_count": 49
        }
      ]
    },
    {
      "cell_type": "code",
      "source": [
        "Date_of_birth = date(2003, 7, 31)"
      ],
      "metadata": {
        "id": "8ZyeXLnDVALx"
      },
      "execution_count": null,
      "outputs": []
    },
    {
      "cell_type": "code",
      "source": [
        "def age_calculator(Date_of_birth, today):\n",
        "  diff_in_years = Date_of_birth - today\n",
        "  if diff_in_years.years >= 0:\n",
        "    return diff_in_years.years\n",
        "  else:\n",
        "    return ((Date_of_birth + timedelta(days = 365)) - now).years"
      ],
      "metadata": {
        "id": "vQH789LeT8ID"
      },
      "execution_count": null,
      "outputs": []
    },
    {
      "cell_type": "code",
      "source": [
        "age_calculator()\n",
        "age_calculator"
      ],
      "metadata": {
        "colab": {
          "base_uri": "https://localhost:8080/",
          "height": 287
        },
        "id": "7ZXsb4iwU3YW",
        "outputId": "372807ba-a9c3-4946-8e91-25cdfa28a62b"
      },
      "execution_count": null,
      "outputs": [
        {
          "output_type": "error",
          "ename": "TypeError",
          "evalue": "unsupported operand type(s) for -: 'str' and 'builtin_function_or_method'",
          "traceback": [
            "\u001b[0;31m---------------------------------------------------------------------------\u001b[0m",
            "\u001b[0;31mTypeError\u001b[0m                                 Traceback (most recent call last)",
            "\u001b[0;32m<ipython-input-55-2d26276fd93e>\u001b[0m in \u001b[0;36m<cell line: 1>\u001b[0;34m()\u001b[0m\n\u001b[0;32m----> 1\u001b[0;31m \u001b[0mage_calculator\u001b[0m\u001b[0;34m(\u001b[0m\u001b[0;34m'Date_of_birth'\u001b[0m\u001b[0;34m,\u001b[0m \u001b[0mdt\u001b[0m\u001b[0;34m.\u001b[0m\u001b[0mnow\u001b[0m\u001b[0;34m)\u001b[0m\u001b[0;34m\u001b[0m\u001b[0;34m\u001b[0m\u001b[0m\n\u001b[0m\u001b[1;32m      2\u001b[0m \u001b[0mage_calculator\u001b[0m\u001b[0;34m\u001b[0m\u001b[0;34m\u001b[0m\u001b[0m\n",
            "\u001b[0;32m<ipython-input-47-721cada8103f>\u001b[0m in \u001b[0;36mage_calculator\u001b[0;34m(Date_of_birth, today)\u001b[0m\n\u001b[1;32m      1\u001b[0m \u001b[0;32mdef\u001b[0m \u001b[0mage_calculator\u001b[0m\u001b[0;34m(\u001b[0m\u001b[0mDate_of_birth\u001b[0m\u001b[0;34m,\u001b[0m \u001b[0mtoday\u001b[0m\u001b[0;34m)\u001b[0m\u001b[0;34m:\u001b[0m\u001b[0;34m\u001b[0m\u001b[0;34m\u001b[0m\u001b[0m\n\u001b[0;32m----> 2\u001b[0;31m   \u001b[0mdiff_in_years\u001b[0m \u001b[0;34m=\u001b[0m \u001b[0mDate_of_birth\u001b[0m \u001b[0;34m-\u001b[0m \u001b[0mtoday\u001b[0m\u001b[0;34m\u001b[0m\u001b[0;34m\u001b[0m\u001b[0m\n\u001b[0m\u001b[1;32m      3\u001b[0m   \u001b[0;32mif\u001b[0m \u001b[0mdiff_in_years\u001b[0m\u001b[0;34m.\u001b[0m\u001b[0myears\u001b[0m \u001b[0;34m>=\u001b[0m \u001b[0;36m0\u001b[0m\u001b[0;34m:\u001b[0m\u001b[0;34m\u001b[0m\u001b[0;34m\u001b[0m\u001b[0m\n\u001b[1;32m      4\u001b[0m     \u001b[0;32mreturn\u001b[0m \u001b[0mdiff_in_years\u001b[0m\u001b[0;34m.\u001b[0m\u001b[0myears\u001b[0m\u001b[0;34m\u001b[0m\u001b[0;34m\u001b[0m\u001b[0m\n\u001b[1;32m      5\u001b[0m   \u001b[0;32melse\u001b[0m\u001b[0;34m:\u001b[0m\u001b[0;34m\u001b[0m\u001b[0;34m\u001b[0m\u001b[0m\n",
            "\u001b[0;31mTypeError\u001b[0m: unsupported operand type(s) for -: 'str' and 'builtin_function_or_method'"
          ]
        }
      ]
    },
    {
      "cell_type": "markdown",
      "source": [
        "Exercise 3"
      ],
      "metadata": {
        "id": "nSINp7LmUBjn"
      }
    },
    {
      "cell_type": "code",
      "source": [
        "import pytz\n",
        "\n",
        "timezones =(\"03/23/21\", \"23/03/2021\", \"March 23rd, 2021 13:01 US/Pacific\", \"1:01pm 23rd March, 2021 Europe/London\", \"1616482800\", \"2021-03-23T12:00:53.034-07:00\")\n",
        "Fixed = []\n",
        "Fixed.append(dt.strptime(timezones[0],'%m/%d/%y'))\n",
        "Fixed.append(dt.strptime(timezones[1],'%d/%m/%Y'))\n",
        "Fixed.append(dt.strptime(timezones[2],'%B %d, %Y %H:%M'))\n",
        "print(Fixed)"
      ],
      "metadata": {
        "id": "tHm2xQosr_pB",
        "colab": {
          "base_uri": "https://localhost:8080/",
          "height": 347
        },
        "outputId": "a8ca663c-6cba-4b08-8d45-717428dbce24"
      },
      "execution_count": null,
      "outputs": [
        {
          "output_type": "error",
          "ename": "ValueError",
          "evalue": "time data 'March 23rd, 2021 13:01 US/Pacific' does not match format '%B %d, %Y %H:%M'",
          "traceback": [
            "\u001b[0;31m---------------------------------------------------------------------------\u001b[0m",
            "\u001b[0;31mValueError\u001b[0m                                Traceback (most recent call last)",
            "\u001b[0;32m<ipython-input-56-9409c34468a4>\u001b[0m in \u001b[0;36m<cell line: 7>\u001b[0;34m()\u001b[0m\n\u001b[1;32m      5\u001b[0m \u001b[0mFixed\u001b[0m\u001b[0;34m.\u001b[0m\u001b[0mappend\u001b[0m\u001b[0;34m(\u001b[0m\u001b[0mdt\u001b[0m\u001b[0;34m.\u001b[0m\u001b[0mstrptime\u001b[0m\u001b[0;34m(\u001b[0m\u001b[0mtimezones\u001b[0m\u001b[0;34m[\u001b[0m\u001b[0;36m0\u001b[0m\u001b[0;34m]\u001b[0m\u001b[0;34m,\u001b[0m\u001b[0;34m'%m/%d/%y'\u001b[0m\u001b[0;34m)\u001b[0m\u001b[0;34m)\u001b[0m\u001b[0;34m\u001b[0m\u001b[0;34m\u001b[0m\u001b[0m\n\u001b[1;32m      6\u001b[0m \u001b[0mFixed\u001b[0m\u001b[0;34m.\u001b[0m\u001b[0mappend\u001b[0m\u001b[0;34m(\u001b[0m\u001b[0mdt\u001b[0m\u001b[0;34m.\u001b[0m\u001b[0mstrptime\u001b[0m\u001b[0;34m(\u001b[0m\u001b[0mtimezones\u001b[0m\u001b[0;34m[\u001b[0m\u001b[0;36m1\u001b[0m\u001b[0;34m]\u001b[0m\u001b[0;34m,\u001b[0m\u001b[0;34m'%d/%m/%Y'\u001b[0m\u001b[0;34m)\u001b[0m\u001b[0;34m)\u001b[0m\u001b[0;34m\u001b[0m\u001b[0;34m\u001b[0m\u001b[0m\n\u001b[0;32m----> 7\u001b[0;31m \u001b[0mFixed\u001b[0m\u001b[0;34m.\u001b[0m\u001b[0mappend\u001b[0m\u001b[0;34m(\u001b[0m\u001b[0mdt\u001b[0m\u001b[0;34m.\u001b[0m\u001b[0mstrptime\u001b[0m\u001b[0;34m(\u001b[0m\u001b[0mtimezones\u001b[0m\u001b[0;34m[\u001b[0m\u001b[0;36m2\u001b[0m\u001b[0;34m]\u001b[0m\u001b[0;34m,\u001b[0m\u001b[0;34m'%B %d, %Y %H:%M'\u001b[0m\u001b[0;34m)\u001b[0m\u001b[0;34m)\u001b[0m\u001b[0;34m\u001b[0m\u001b[0;34m\u001b[0m\u001b[0m\n\u001b[0m\u001b[1;32m      8\u001b[0m \u001b[0mprint\u001b[0m\u001b[0;34m(\u001b[0m\u001b[0mFixed\u001b[0m\u001b[0;34m)\u001b[0m\u001b[0;34m\u001b[0m\u001b[0;34m\u001b[0m\u001b[0m\n",
            "\u001b[0;32m/usr/lib/python3.10/_strptime.py\u001b[0m in \u001b[0;36m_strptime_datetime\u001b[0;34m(cls, data_string, format)\u001b[0m\n\u001b[1;32m    566\u001b[0m     \"\"\"Return a class cls instance based on the input string and the\n\u001b[1;32m    567\u001b[0m     format string.\"\"\"\n\u001b[0;32m--> 568\u001b[0;31m     \u001b[0mtt\u001b[0m\u001b[0;34m,\u001b[0m \u001b[0mfraction\u001b[0m\u001b[0;34m,\u001b[0m \u001b[0mgmtoff_fraction\u001b[0m \u001b[0;34m=\u001b[0m \u001b[0m_strptime\u001b[0m\u001b[0;34m(\u001b[0m\u001b[0mdata_string\u001b[0m\u001b[0;34m,\u001b[0m \u001b[0mformat\u001b[0m\u001b[0;34m)\u001b[0m\u001b[0;34m\u001b[0m\u001b[0;34m\u001b[0m\u001b[0m\n\u001b[0m\u001b[1;32m    569\u001b[0m     \u001b[0mtzname\u001b[0m\u001b[0;34m,\u001b[0m \u001b[0mgmtoff\u001b[0m \u001b[0;34m=\u001b[0m \u001b[0mtt\u001b[0m\u001b[0;34m[\u001b[0m\u001b[0;34m-\u001b[0m\u001b[0;36m2\u001b[0m\u001b[0;34m:\u001b[0m\u001b[0;34m]\u001b[0m\u001b[0;34m\u001b[0m\u001b[0;34m\u001b[0m\u001b[0m\n\u001b[1;32m    570\u001b[0m     \u001b[0margs\u001b[0m \u001b[0;34m=\u001b[0m \u001b[0mtt\u001b[0m\u001b[0;34m[\u001b[0m\u001b[0;34m:\u001b[0m\u001b[0;36m6\u001b[0m\u001b[0;34m]\u001b[0m \u001b[0;34m+\u001b[0m \u001b[0;34m(\u001b[0m\u001b[0mfraction\u001b[0m\u001b[0;34m,\u001b[0m\u001b[0;34m)\u001b[0m\u001b[0;34m\u001b[0m\u001b[0;34m\u001b[0m\u001b[0m\n",
            "\u001b[0;32m/usr/lib/python3.10/_strptime.py\u001b[0m in \u001b[0;36m_strptime\u001b[0;34m(data_string, format)\u001b[0m\n\u001b[1;32m    347\u001b[0m     \u001b[0mfound\u001b[0m \u001b[0;34m=\u001b[0m \u001b[0mformat_regex\u001b[0m\u001b[0;34m.\u001b[0m\u001b[0mmatch\u001b[0m\u001b[0;34m(\u001b[0m\u001b[0mdata_string\u001b[0m\u001b[0;34m)\u001b[0m\u001b[0;34m\u001b[0m\u001b[0;34m\u001b[0m\u001b[0m\n\u001b[1;32m    348\u001b[0m     \u001b[0;32mif\u001b[0m \u001b[0;32mnot\u001b[0m \u001b[0mfound\u001b[0m\u001b[0;34m:\u001b[0m\u001b[0;34m\u001b[0m\u001b[0;34m\u001b[0m\u001b[0m\n\u001b[0;32m--> 349\u001b[0;31m         raise ValueError(\"time data %r does not match format %r\" %\n\u001b[0m\u001b[1;32m    350\u001b[0m                          (data_string, format))\n\u001b[1;32m    351\u001b[0m     \u001b[0;32mif\u001b[0m \u001b[0mlen\u001b[0m\u001b[0;34m(\u001b[0m\u001b[0mdata_string\u001b[0m\u001b[0;34m)\u001b[0m \u001b[0;34m!=\u001b[0m \u001b[0mfound\u001b[0m\u001b[0;34m.\u001b[0m\u001b[0mend\u001b[0m\u001b[0;34m(\u001b[0m\u001b[0;34m)\u001b[0m\u001b[0;34m:\u001b[0m\u001b[0;34m\u001b[0m\u001b[0;34m\u001b[0m\u001b[0m\n",
            "\u001b[0;31mValueError\u001b[0m: time data 'March 23rd, 2021 13:01 US/Pacific' does not match format '%B %d, %Y %H:%M'"
          ]
        }
      ]
    }
  ]
}