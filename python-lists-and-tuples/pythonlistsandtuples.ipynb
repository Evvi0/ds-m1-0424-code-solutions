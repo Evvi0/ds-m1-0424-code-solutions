{
  "nbformat": 4,
  "nbformat_minor": 0,
  "metadata": {
    "colab": {
      "provenance": []
    },
    "kernelspec": {
      "name": "python3",
      "display_name": "Python 3"
    },
    "language_info": {
      "name": "python"
    }
  },
  "cells": [
    {
      "cell_type": "code",
      "execution_count": null,
      "metadata": {
        "id": "jqdWQzTehyC0"
      },
      "outputs": [],
      "source": [
        "def sum_of_numbers(number1, number2):\n",
        "  sum = number1 + number2\n",
        "  print sum"
      ]
    },
    {
      "cell_type": "code",
      "source": [
        "sum_of_numbers(2,3)\n"
      ],
      "metadata": {
        "colab": {
          "base_uri": "https://localhost:8080/"
        },
        "id": "Hyi2sUx1lVm2",
        "outputId": "6fa87353-43b9-4ae4-bcdd-4fde7a0d4282"
      },
      "execution_count": null,
      "outputs": [
        {
          "output_type": "execute_result",
          "data": {
            "text/plain": [
              "5"
            ]
          },
          "metadata": {},
          "execution_count": 9
        }
      ]
    },
    {
      "cell_type": "code",
      "source": [
        "def is_leapyear(year):\n",
        "  if (year % 4) == 0:\n",
        "    if(year % 100) !=0:\n",
        "      return True\n",
        "    elif (year % 400) == 0:\n",
        "      return True\n",
        "  else:\n",
        "    return False"
      ],
      "metadata": {
        "id": "xFo1-tfUoABc"
      },
      "execution_count": null,
      "outputs": []
    },
    {
      "cell_type": "code",
      "source": [
        "is_leapyear(1998)"
      ],
      "metadata": {
        "colab": {
          "base_uri": "https://localhost:8080/"
        },
        "id": "wXO_qccapLgL",
        "outputId": "34932472-a133-4133-c7d7-bf5761fb4a7f"
      },
      "execution_count": null,
      "outputs": [
        {
          "output_type": "execute_result",
          "data": {
            "text/plain": [
              "False"
            ]
          },
          "metadata": {},
          "execution_count": 11
        }
      ]
    },
    {
      "cell_type": "code",
      "source": [
        "is_leapyear(2022)"
      ],
      "metadata": {
        "colab": {
          "base_uri": "https://localhost:8080/"
        },
        "id": "x4GilFY1p96O",
        "outputId": "cf09ef74-ebc1-4bb8-ed7a-006da5bfbc54"
      },
      "execution_count": null,
      "outputs": [
        {
          "output_type": "execute_result",
          "data": {
            "text/plain": [
              "False"
            ]
          },
          "metadata": {},
          "execution_count": 19
        }
      ]
    },
    {
      "cell_type": "code",
      "source": [
        "alp = 'abcdefghijklmnopqrstuvwyxyz'\n",
        "\n",
        "\n",
        "def alphabet_dict(string):\n",
        "  d = {}\n",
        "  for i, alp in enumerate(string):\n",
        "    d[alp] = i\n",
        "  return d"
      ],
      "metadata": {
        "id": "Vpk_vpBRsZ8V"
      },
      "execution_count": null,
      "outputs": []
    },
    {
      "cell_type": "code",
      "source": [
        "alphabet_dict(alp)"
      ],
      "metadata": {
        "colab": {
          "base_uri": "https://localhost:8080/"
        },
        "id": "av9fsiXYtmSY",
        "outputId": "03956c72-88dc-49f4-f5d2-d25361b42c8c"
      },
      "execution_count": null,
      "outputs": [
        {
          "output_type": "execute_result",
          "data": {
            "text/plain": [
              "{'a': 0,\n",
              " 'b': 1,\n",
              " 'c': 2,\n",
              " 'd': 3,\n",
              " 'e': 4,\n",
              " 'f': 5,\n",
              " 'g': 6,\n",
              " 'h': 7,\n",
              " 'i': 8,\n",
              " 'j': 9,\n",
              " 'k': 10,\n",
              " 'l': 11,\n",
              " 'm': 12,\n",
              " 'n': 13,\n",
              " 'o': 14,\n",
              " 'p': 15,\n",
              " 'q': 16,\n",
              " 'r': 17,\n",
              " 's': 18,\n",
              " 't': 19,\n",
              " 'u': 20,\n",
              " 'v': 21,\n",
              " 'w': 22,\n",
              " 'y': 25,\n",
              " 'x': 24,\n",
              " 'z': 26}"
            ]
          },
          "metadata": {},
          "execution_count": 2
        }
      ]
    },
    {
      "cell_type": "code",
      "source": [
        "d = {}"
      ],
      "metadata": {
        "id": "p34jCYfgs6km"
      },
      "execution_count": null,
      "outputs": []
    },
    {
      "cell_type": "code",
      "source": [
        "alp"
      ],
      "metadata": {
        "colab": {
          "base_uri": "https://localhost:8080/",
          "height": 35
        },
        "id": "Po7tEuo9ujqY",
        "outputId": "ce003dbc-1519-475f-f777-3a727139f761"
      },
      "execution_count": null,
      "outputs": [
        {
          "output_type": "execute_result",
          "data": {
            "text/plain": [
              "'abcdefghijklmnopqrstuvwyxyz'"
            ],
            "application/vnd.google.colaboratory.intrinsic+json": {
              "type": "string"
            }
          },
          "metadata": {},
          "execution_count": 27
        }
      ]
    },
    {
      "cell_type": "code",
      "source": [
        "for index, alp in enumerate(alp):\n",
        "  print(index, alp)"
      ],
      "metadata": {
        "colab": {
          "base_uri": "https://localhost:8080/"
        },
        "id": "NDs-bIk2ul9m",
        "outputId": "7c4170dd-d35d-4620-8e7c-d2d4960fe33b"
      },
      "execution_count": null,
      "outputs": [
        {
          "output_type": "stream",
          "name": "stdout",
          "text": [
            "0 a\n",
            "1 b\n",
            "2 c\n",
            "3 d\n",
            "4 e\n",
            "5 f\n",
            "6 g\n",
            "7 h\n",
            "8 i\n",
            "9 j\n",
            "10 k\n",
            "11 l\n",
            "12 m\n",
            "13 n\n",
            "14 o\n",
            "15 p\n",
            "16 q\n",
            "17 r\n",
            "18 s\n",
            "19 t\n",
            "20 u\n",
            "21 v\n",
            "22 w\n",
            "23 y\n",
            "24 x\n",
            "25 y\n",
            "26 z\n"
          ]
        }
      ]
    },
    {
      "cell_type": "code",
      "source": [
        "def mean(num1, num2, num3, num4, num5, num6, num7, num8):\n",
        "  mean = (num1+num2+num3+num4+num5+num6+num7+num8) // 8\n",
        "  print(mean)"
      ],
      "metadata": {
        "id": "W0x3hOn0vsUI"
      },
      "execution_count": null,
      "outputs": []
    },
    {
      "cell_type": "code",
      "source": [
        "mean(1,2,4,5,5,7,8,9)"
      ],
      "metadata": {
        "colab": {
          "base_uri": "https://localhost:8080/"
        },
        "id": "-_8Qe23f5M1s",
        "outputId": "33e44165-bc10-4530-b5d5-1db004139752"
      },
      "execution_count": null,
      "outputs": [
        {
          "output_type": "stream",
          "name": "stdout",
          "text": [
            "5\n"
          ]
        }
      ]
    },
    {
      "cell_type": "code",
      "source": [
        "def _mean(*n):\n",
        "  return sum(n)/len(n)\n"
      ],
      "metadata": {
        "id": "B-vsTBEM7fsk"
      },
      "execution_count": null,
      "outputs": []
    },
    {
      "cell_type": "code",
      "source": [
        "_mean(1,4,5,6,7,8,9)"
      ],
      "metadata": {
        "colab": {
          "base_uri": "https://localhost:8080/"
        },
        "id": "_rJVLruU8TRl",
        "outputId": "58ad076c-5729-4dd3-9ac6-8c2685bcc361"
      },
      "execution_count": null,
      "outputs": [
        {
          "output_type": "execute_result",
          "data": {
            "text/plain": [
              "5.714285714285714"
            ]
          },
          "metadata": {},
          "execution_count": 37
        }
      ]
    }
  ]
}